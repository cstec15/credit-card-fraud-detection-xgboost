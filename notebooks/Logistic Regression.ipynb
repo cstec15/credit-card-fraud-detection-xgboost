{
 "cells": [
  {
   "cell_type": "markdown",
   "id": "383b51c0-28e6-4983-b266-c7adb54e0bf1",
   "metadata": {},
   "source": [
    "## Logistic Regression"
   ]
  },
  {
   "cell_type": "markdown",
   "id": "918949fa-f5ee-4caf-b8be-41ecc93cbebf",
   "metadata": {},
   "source": [
    "We start by testing a simple logistic regression model to establish a baseline"
   ]
  },
  {
   "cell_type": "code",
   "execution_count": 1,
   "id": "6b8a2d34-3566-47df-b737-dd5e2b59e1f7",
   "metadata": {},
   "outputs": [],
   "source": [
    "import pandas as pd\n",
    "\n",
    "creditcards = pd.read_csv(\"~/credit-card-fraud-detection-xgboost/data/creditcards_cleaned.csv\")\n",
    "correlations = creditcards.corr()['Class'].drop('Class')\n",
    "most_correlated = correlations.abs().sort_values(ascending=False)"
   ]
  },
  {
   "cell_type": "code",
   "execution_count": 2,
   "id": "daacf004-1911-44f9-b5b1-5ddd11b264fe",
   "metadata": {},
   "outputs": [
    {
     "name": "stdout",
     "output_type": "stream",
     "text": [
      "Predicted:    0      1\n",
      "Actual: 0  [83391  1904]\n",
      "Actual: 1  [ 21 127]\n",
      "              precision    recall  f1-score   support\n",
      "\n",
      "           0       1.00      0.98      0.99     85295\n",
      "           1       0.06      0.86      0.12       148\n",
      "\n",
      "    accuracy                           0.98     85443\n",
      "   macro avg       0.53      0.92      0.55     85443\n",
      "weighted avg       1.00      0.98      0.99     85443\n",
      "\n",
      "AUPRC Score: 0.644278339733598\n"
     ]
    },
    {
     "data": {
      "image/png": "[encoded data removed]",
      "text/plain": [
       "<Figure size 640x480 with 1 Axes>"
      ]
     },
     "metadata": {},
     "output_type": "display_data"
    }
   ],
   "source": [
    "from sklearn.model_selection import train_test_split\n",
    "from sklearn.linear_model import LogisticRegression\n",
    "from sklearn.metrics import classification_report, confusion_matrix, average_precision_score, precision_recall_curve\n",
    "import matplotlib.pyplot as plt\n",
    "import seaborn as sns\n",
    "\n",
    "# Our initial model will include the features that were most highly correlated with Amount\n",
    "X = creditcards.drop('Class', axis=1)[['Amount_standardized', 'V17', 'V14', 'V12', 'V10']]\n",
    "y = creditcards['Class']\n",
    "\n",
    "# split dataset into train and test set\n",
    "X_train, X_test, y_train, y_test = train_test_split(\n",
    "    X, y, test_size=0.3, random_state=42, stratify=y)\n",
    "model = LogisticRegression(max_iter=1000, class_weight='balanced') # use class_weight='balanced' for imbalanced data\n",
    "model.fit(X_train, y_train)\n",
    "\n",
    "y_pred = model.predict(X_test)\n",
    "y_proba = model.predict_proba(X_test)[:, 1]\n",
    "\n",
    "my_confusion_matrix = confusion_matrix(y_test, y_pred)\n",
    "print('Predicted:    0      1')\n",
    "print('Actual: 0 ', my_confusion_matrix[0])\n",
    "print('Actual: 1 ', my_confusion_matrix[1])\n",
    "print(classification_report(y_test, y_pred))\n",
    "\n",
    "auprc_score = average_precision_score(y_test, y_proba)\n",
    "print(\"AUPRC Score:\", auprc_score)\n",
    "\n",
    "precision, recall, _ = precision_recall_curve(y_test, y_proba)\n",
    "plt.plot(recall, precision, marker='.')\n",
    "plt.xlabel('Recall')\n",
    "plt.ylabel('Precision')\n",
    "plt.title('Precision-Recall Curve')\n",
    "plt.grid(True)\n",
    "plt.show()"
   ]
  },
  {
   "cell_type": "markdown",
   "id": "359385fd-a1f6-4ff4-ae6d-b94e4f7029fb",
   "metadata": {},
   "source": [
    "Lets take a look at our results. To begin, an AUPRC score of .64 is solid with the fraud class only making up about .2% of the entries. Also, the precision and recall on the nonfraud entries was very high, meaning that almost everything that we predicted to be a nonfraud was not a fraud, and we correctly predicted almost every nonfraud. This is good, but is also not difficult to do when nonfraud is much more prevalent, as if we predicted everything to be nonfraud, we would achieve similar numbers.\n",
    "\n",
    "However, precision and recall of the fraud entries were lower, and especially the precision. The vast majority of the items we predicted to be fraud were not, and this is an issue as this would lead to too many false positive detections of fraud and major inconveniences for customers when they are not actually dealing with fraud. \n",
    "\n",
    "We will look to improve our AUPRC, specifically through better precision."
   ]
  },
  {
   "cell_type": "code",
   "execution_count": 3,
   "id": "fd05f3b5-e22f-4a0e-acf4-e31410e9b08f",
   "metadata": {},
   "outputs": [
    {
     "name": "stdout",
     "output_type": "stream",
     "text": [
      "Best Threshold: 0.9672813586060821\n",
      "Best F1 Score: 0.7239263803680981\n",
      "Predicted:    0      1\n",
      "Actual: 0  [85235    60]\n",
      "Actual: 1  [ 30 118]\n",
      "              precision    recall  f1-score   support\n",
      "\n",
      "           0       1.00      1.00      1.00     85295\n",
      "           1       0.66      0.80      0.72       148\n",
      "\n",
      "    accuracy                           1.00     85443\n",
      "   macro avg       0.83      0.90      0.86     85443\n",
      "weighted avg       1.00      1.00      1.00     85443\n",
      "\n",
      "AUPRC Score: 0.644278339733598\n"
     ]
    }
   ],
   "source": [
    "from sklearn.metrics import precision_recall_curve, f1_score\n",
    "\n",
    "precision, recall, thresholds = precision_recall_curve(y_test, y_proba)\n",
    "\n",
    "f1_scores = 2 * (precision * recall) / (precision + recall)\n",
    "best_index = f1_scores.argmax()\n",
    "best_threshold = thresholds[best_index]\n",
    "\n",
    "print(f\"Best Threshold: {best_threshold}\")\n",
    "print(f\"Best F1 Score: {f1_scores[best_index]}\")\n",
    "\n",
    "# make predications using the threshold that gives us the best F1 score\n",
    "y_pred_custom = (y_proba >= best_threshold).astype(int)\n",
    "\n",
    "my_confusion_matrix = confusion_matrix(y_test, y_pred_custom)\n",
    "print('Predicted:    0      1')\n",
    "print('Actual: 0 ', my_confusion_matrix[0])\n",
    "print('Actual: 1 ', my_confusion_matrix[1])\n",
    "print(classification_report(y_test, y_pred_custom))\n",
    "\n",
    "auprc_score = average_precision_score(y_test, y_proba)\n",
    "print(\"AUPRC Score:\", auprc_score)"
   ]
  },
  {
   "cell_type": "markdown",
   "id": "eecd1a03-ec29-4701-b27b-74245013bd12",
   "metadata": {},
   "source": [
    "We can use the threshold that gives us the best F1 score to improve precision greatly without a big hit to recall. However, adjusting the threshold does not change the AUPRC score, as this metric summarizes model performance across all thresholds, and we want to be able to compare to other models."
   ]
  },
  {
   "cell_type": "code",
   "execution_count": null,
   "id": "1f551b5e-7e38-4437-898b-001faf188ef2",
   "metadata": {},
   "outputs": [],
   "source": [
    "from sklearn.metrics import average_precision_score, precision_recall_curve, confusion_matrix\n",
    "\n",
    "X = creditcards.drop('Class', axis=1)[list(most_correlated.index[:25])]\n",
    "y = creditcards['Class']\n",
    "\n",
    "X_train, X_test, y_train, y_test = train_test_split(\n",
    "    X, y, test_size=0.3, random_state=42, stratify=y)\n",
    "model = LogisticRegression(max_iter=10000, class_weight='balanced')\n",
    "model.fit(X_train, y_train)\n",
    "\n",
    "y_pred = model.predict(X_test)\n",
    "y_proba = model.predict_proba(X_test)[:, 1]\n",
    "\n",
    "my_confusion_matrix = confusion_matrix(y_test, y_pred)\n",
    "print('Predicted:    0      1')\n",
    "print('Actual: 0 ', my_confusion_matrix[0])\n",
    "print('Actual: 1 ', my_confusion_matrix[1])\n",
    "print(classification_report(y_test, y_pred))\n",
    "\n",
    "auprc_score = average_precision_score(y_test, y_proba)\n",
    "print(\"AUPRC Score:\", auprc_score)"
   ]
  },
  {
   "cell_type": "markdown",
   "id": "db4b0f3a-979a-4d77-b557-fbc36c4322f1",
   "metadata": {},
   "source": [
    "After using more features in our dataset, we were able to increase our AUPRC to ~.70"
   ]
  },
  {
   "cell_type": "markdown",
   "id": "bc0335b9-402a-4d35-b903-1572105f6d3f",
   "metadata": {},
   "source": [
    "Before going farther on logistic regression we will see if other models have better performance out of the box"
   ]
  },
  {
   "cell_type": "code",
   "execution_count": null,
   "id": "cea4543c-40df-41eb-9375-84d434012ed9",
   "metadata": {},
   "outputs": [],
   "source": []
  }
 ],
 "metadata": {
  "kernelspec": {
   "display_name": "Python 3 (ipykernel)",
   "language": "python",
   "name": "python3"
  },
  "language_info": {
   "codemirror_mode": {
    "name": "ipython",
    "version": 3
   },
   "file_extension": ".py",
   "mimetype": "text/x-python",
   "name": "python",
   "nbconvert_exporter": "python",
   "pygments_lexer": "ipython3",
   "version": "3.11.13"
  }
 },
 "nbformat": 4,
 "nbformat_minor": 5
}
